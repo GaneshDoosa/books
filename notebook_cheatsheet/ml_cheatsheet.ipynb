{
 "cells": [
  {
   "cell_type": "markdown",
   "id": "b98cd341",
   "metadata": {},
   "source": [
    "# Sensitivity (Positivity, TPR-True Positive Rate, Recall, Hitrate) \n",
    "\n",
    "Sensitivity = Recall = $\\frac{TP}{P}$ = $\\frac{TP}{TP+FN}$ = $\\frac{TP}{Predited Results}$ \n",
    "\n",
    "# Specificity (Negativity, TNR-True Negative Rate, Selectivity)\n",
    "\n",
    "Specificity = $\\frac{TN}{N}$ = $\\frac{TN}{TN+FP}$\n",
    "\n",
    "# Precision (Positive Predictive Value)\n",
    "Precision = Positive Predictive Value = $\\frac{TP}{Actual Results}$ = $\\frac{TP}{TP+FP}$\n",
    "\n",
    "# ROC (Receiver Operating Characteristics)\n",
    "TPR vs FPR\n",
    "<img alt=\"roc\" src=\"images/roc.webp\" width=\"400\" height=\"400\">"
   ]
  },
  {
   "cell_type": "markdown",
   "id": "7b50d005",
   "metadata": {},
   "source": [
    "# Run python script \n"
   ]
  },
  {
   "cell_type": "code",
   "execution_count": null,
   "id": "b354c8ca",
   "metadata": {},
   "outputs": [],
   "source": [
    "import os\n",
    "filepath = \"/home/dganesh/app/\"\n",
    "os.chdir(filepath)\n",
    "%run script.py"
   ]
  }
 ],
 "metadata": {
  "kernelspec": {
   "display_name": "Python 3 (ipykernel)",
   "language": "python",
   "name": "python3"
  },
  "language_info": {
   "codemirror_mode": {
    "name": "ipython",
    "version": 3
   },
   "file_extension": ".py",
   "mimetype": "text/x-python",
   "name": "python",
   "nbconvert_exporter": "python",
   "pygments_lexer": "ipython3",
   "version": "3.9.7"
  }
 },
 "nbformat": 4,
 "nbformat_minor": 5
}
