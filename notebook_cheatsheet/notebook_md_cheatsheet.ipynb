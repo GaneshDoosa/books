{
 "cells": [
  {
   "cell_type": "markdown",
   "id": "2b5acdac",
   "metadata": {},
   "source": [
    "### Align two images side by side\n",
    "\n",
    "<table><tr>\n",
    "<td> \n",
    "  <p align=\"center\" style=\"padding: 10px\">\n",
    "    <img alt=\"cats\" src=\"images/cat.jpg\" width=\"200\" height=\"200\">\n",
    "    <br>\n",
    "    <em style=\"color: grey\">Cat</em>\n",
    "  </p> \n",
    "</td>\n",
    "<td> \n",
    "  <p align=\"center\">\n",
    "    <img alt=\"dogs\" src=\"images/dog.jpg\" width=\"100\" height=\"100\">\n",
    "    <br>\n",
    "    <em style=\"color: grey\">Dog</em>\n",
    "  </p> \n",
    "</td>\n",
    "</tr></table>"
   ]
  },
  {
   "cell_type": "markdown",
   "id": "04696f1b",
   "metadata": {},
   "source": [
    "### List inside a list\n",
    "1. Main List 1\n",
    "    1. Sub List 1\n",
    "    2. Sub List 2\n",
    "2. Main List 2\n",
    "    1. Sub List 1\n",
    "    2. Sub List 2"
   ]
  },
  {
   "cell_type": "markdown",
   "id": "b5f8fb26",
   "metadata": {},
   "source": [
    "### Color the text\n",
    "$\\color{red}{\\text{red color text}}$"
   ]
  },
  {
   "cell_type": "markdown",
   "id": "f38f1742",
   "metadata": {},
   "source": [
    "### Left aligned table with rows and columns (HTML)\n",
    "<table align=\"left\">\n",
    "  <tr>\n",
    "    <td>Cell A</td>\n",
    "    <td>Cell B</td>\n",
    "  </tr>\n",
    "  <tr>\n",
    "    <td>Cell C</td>\n",
    "    <td>Cell D</td>\n",
    "  </tr>\n",
    "</table>"
   ]
  },
  {
   "cell_type": "markdown",
   "id": "4c4886ad",
   "metadata": {},
   "source": [
    "### Table with rows and columns (No HTML)\n",
    "\n",
    "| Col1 | Col2 | Col3 |\n",
    "| :- | -: | :-: |\n",
    "| row1 | row1 | row1\n",
    "| row2 | row2 | row2\n",
    "| row3 | row3 | row3\n",
    "| row4 | row4 | row4\n",
    "| row5 | row5 | row5\n"
   ]
  },
  {
   "cell_type": "code",
   "execution_count": null,
   "id": "3ee29840",
   "metadata": {},
   "outputs": [],
   "source": []
  }
 ],
 "metadata": {
  "kernelspec": {
   "display_name": "Python 3 (ipykernel)",
   "language": "python",
   "name": "python3"
  },
  "language_info": {
   "codemirror_mode": {
    "name": "ipython",
    "version": 3
   },
   "file_extension": ".py",
   "mimetype": "text/x-python",
   "name": "python",
   "nbconvert_exporter": "python",
   "pygments_lexer": "ipython3",
   "version": "3.9.7"
  }
 },
 "nbformat": 4,
 "nbformat_minor": 5
}
