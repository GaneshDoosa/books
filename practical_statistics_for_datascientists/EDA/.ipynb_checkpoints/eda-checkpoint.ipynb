{
 "cells": [
  {
   "cell_type": "markdown",
   "id": "a15784d8",
   "metadata": {},
   "source": [
    "## Datatypes\n",
    "**1. Numeric** </br>\n",
    "    a. Continuous </br>\n",
    "    b. Discrete </br>\n",
    "**2. Categorical** </br>\n",
    "    a. Binary </br>\n",
    "    b. Ordinal </br>"
   ]
  },
  {
   "cell_type": "code",
   "execution_count": null,
   "id": "ff3b7952",
   "metadata": {},
   "outputs": [],
   "source": []
  }
 ],
 "metadata": {
  "kernelspec": {
   "display_name": "Python 3 (ipykernel)",
   "language": "python",
   "name": "python3"
  },
  "language_info": {
   "codemirror_mode": {
    "name": "ipython",
    "version": 3
   },
   "file_extension": ".py",
   "mimetype": "text/x-python",
   "name": "python",
   "nbconvert_exporter": "python",
   "pygments_lexer": "ipython3",
   "version": "3.9.7"
  }
 },
 "nbformat": 4,
 "nbformat_minor": 5
}
