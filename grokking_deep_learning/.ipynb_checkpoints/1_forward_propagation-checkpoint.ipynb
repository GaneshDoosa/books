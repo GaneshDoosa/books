{
 "cells": [
  {
   "cell_type": "markdown",
   "id": "995755d6",
   "metadata": {},
   "source": [
    "## Predict - Compare - Learn"
   ]
  },
  {
   "cell_type": "markdown",
   "id": "5873285d",
   "metadata": {},
   "source": [
    "# Predict"
   ]
  },
  {
   "cell_type": "markdown",
   "id": "69e54ecc",
   "metadata": {},
   "source": [
    "$\\color{red}{\\text{1. A simple network making prediction}}$ <br>\n",
    "$\\color{red}{\\text{2. What is neural network and what does it do?}}$ <br>\n",
    "$\\color{red}{\\text{3. Making prediction with multiple inputs}}$ <br>\n",
    "$\\color{red}{\\text{4. Making prediction with multiple outputs}}$ <br>\n",
    "$\\color{red}{\\text{5. Making prediction with multiple inputs and multiple outputs}}$ <br>\n",
    "$\\color{red}{\\text{6. Predicting on predictions}}$ <br>"
   ]
  },
  {
   "cell_type": "markdown",
   "id": "43134e96",
   "metadata": {},
   "source": [
    "### Problem Statemnet: Predict the probability that the Red Sox will win the World Series\n",
    "### Data:   \n",
    "       Location: away\n",
    "       Opponent: Yankees\n",
    "       number of toes: 250\n",
    "       number of players: 25\n",
    "       number of fans: 25,000    "
   ]
  },
  {
   "cell_type": "markdown",
   "id": "0c055cd8",
   "metadata": {},
   "source": [
    "## 1. A simple neural network making prediction with single input\n",
    "### Input: \n",
    "    number of toes \n",
    "    \n",
    "### Steps:\n",
    "\n",
    "<table>\n",
    "<tr>\n",
    "<td> \n",
    "  <p align=\"center\" style=\"padding: 10px\">\n",
    "    <img alt=\"cats\" src=\"images/nn1.png\">\n",
    "    <br>\n",
    "    <em style=\"color: grey\"></em>\n",
    "  </p> \n",
    "</td>\n",
    "<td> \n",
    "  <p align=\"center\">\n",
    "    <img alt=\"dogs\" src=\"images/nn2.png\">\n",
    "    <br>\n",
    "    <em style=\"color: grey\"></em>\n",
    "  </p> \n",
    "</td>\n",
    "</tr>\n",
    "<tr>\n",
    "<td> \n",
    "  <p align=\"center\" style=\"padding: 10px\">\n",
    "    <img alt=\"cats\" src=\"images/nn3.png\">\n",
    "    <br>\n",
    "    <em style=\"color: grey\"></em>\n",
    "  </p> \n",
    "</td>\n",
    "<td> \n",
    "  <p align=\"center\">\n",
    "    <img alt=\"dogs\" src=\"images/nn4.png\">\n",
    "    <br>\n",
    "    <em style=\"color: grey\"></em>\n",
    "  </p> \n",
    "</td>\n",
    "</tr>\n",
    "</table>"
   ]
  },
  {
   "cell_type": "code",
   "execution_count": 3,
   "id": "5912518e",
   "metadata": {},
   "outputs": [
    {
     "name": "stdout",
     "output_type": "stream",
     "text": [
      "0.8500000000000001\n"
     ]
    }
   ],
   "source": [
    "# 1. An empty network\n",
    "weight = 0.1\n",
    "def neural_network(input, weight):\n",
    "    # 3. Multiplying input by weight\n",
    "    prediction = input * weight\n",
    "    return prediction\n",
    "\n",
    "number_of_toes = [8.5, 9.5, 10, 9]\n",
    "# 2. Inserting one input data point\n",
    "input = number_of_toes[0]\n",
    "\n",
    "# 4. Depositing the prediction\n",
    "pred = neural_network(input, weight)\n",
    "print(pred)"
   ]
  },
  {
   "cell_type": "markdown",
   "id": "7bece522",
   "metadata": {},
   "source": [
    "## 2. What is a neural network from the above understanding?\n",
    "Its one or more weights that you can multiply by the input data to make prediction\n",
    "\n",
    "### What is input data?\n",
    "It’s a number that you recorded in the real world somewhere. It’s usually something that is easily knowable, like today’s temperature, a baseball player’s batting average, or yesterday’s stock price.\n",
    "### What is a prediction?\n",
    "A prediction is what the neural network tells you, given the input data, such as “given the temperature, it is 0% likely that people will wear sweatsuits today” or “given a baseball player’s batting average, he is 30% likely to hit a home run” or “given yesterday’s stock price, today’s stock price will be 101.52.”\n",
    "### Is this prediction always right?\n",
    "No. Sometimes a neural network will make mistakes, but it can learn from them. For example, if it predicts too high, it will adjust its weight to predict lower next time, and vice versa.\n",
    "### How does the network learn?\n",
    "Trial and error! First, it tries to make a prediction. Then, it sees whether the prediction was too high or too low. Finally, it changes the weight (up or down) to predict more accurately the next time it sees the same input.\n",
    "### What does this neural network do?\n",
    "**It multiplies the input by a weight. It “scales” the input by acertain amount**. A neural network, in its simplest form, uses the power of multiplication. It takes an input datapoint (in this case, 8.5) and multiplies it by the weight. If the weight is 2, then the neural network will double the input. If the weight is 0.01, then the network will divide the input by 100. As you can see, some weight values make the input bigger, and other values make it smaller.\n",
    "\n",
    "Note that neural networks don’t predict just positive numbers—they can also predict negative numbers and even take negative numbers as input. Perhaps you want to predict the probability that people will wear coats today. If the temperature is –10 degrees Celsius, then a negative weight will predict a high probability that people will wear their coats."
   ]
  },
  {
   "cell_type": "markdown",
   "id": "0e4be890",
   "metadata": {},
   "source": [
    "## 3. Making prediction with multiple inputs\n",
    "Neural networks can combine intelligence from multiple datapoints.\n",
    "\n",
    "#### Input: \n",
    "toes = current average number of toes per player <br>\n",
    "wlrec = current games won (percent) <br>\n",
    "nfans = fan count (in millions). <br>\n",
    "\n",
    "### Steps:\n",
    "<table>\n",
    "<tr>\n",
    "<td> \n",
    "  <p align=\"center\" style=\"padding: 10px\">\n",
    "    <img alt=\"cats\" src=\"images/nn5.png\">\n",
    "    <br>\n",
    "    <em style=\"color: grey\"></em>\n",
    "  </p> \n",
    "</td>\n",
    "<td> \n",
    "  <p align=\"center\">\n",
    "    <img alt=\"dogs\" src=\"images/nn6.png\">\n",
    "    <br>\n",
    "    <em style=\"color: grey\"></em>\n",
    "  </p> \n",
    "</td>\n",
    "</tr>\n",
    "<tr>\n",
    "<td> \n",
    "  <p align=\"center\" style=\"padding: 10px\">\n",
    "    <img alt=\"cats\" src=\"images/nn7.png\">\n",
    "    <br>\n",
    "    <em style=\"color: grey\"></em>\n",
    "  </p> \n",
    "</td>\n",
    "<td> \n",
    "  <p align=\"center\">\n",
    "    <img alt=\"dogs\" src=\"images/nn8.png\">\n",
    "    <br>\n",
    "    <em style=\"color: grey\"></em>\n",
    "  </p> \n",
    "</td>\n",
    "</tr>\n",
    "</table>"
   ]
  },
  {
   "cell_type": "code",
   "execution_count": 5,
   "id": "6320fac6",
   "metadata": {},
   "outputs": [
    {
     "name": "stdout",
     "output_type": "stream",
     "text": [
      "0.9800000000000001\n"
     ]
    }
   ],
   "source": [
    "# 1. An empty network with multiple inputs\n",
    "weights = [0.1, 0.2, 0]\n",
    "def neural_network(input, weights):\n",
    "    prediction = w_sum(input, weights)\n",
    "    return prediction\n",
    "\n",
    "# 3. Performing weighted sum of inputs\n",
    "def w_sum(a, b):\n",
    "    assert(len(a) == len(b))\n",
    "    output = 0\n",
    "    for i in range(len(a)):\n",
    "        output += (a[i]*b[i])\n",
    "    return output\n",
    "\n",
    "toes = [8.5, 9.5, 9.9, 9.0]\n",
    "wlrec = [0.65, 0.8, 0.8, 0.9]\n",
    "nfans = [1.2, 1.3, 0.5, 1.0]\n",
    "\n",
    "# 2. Inserting one input data point\n",
    "input = [toes[0], wlrec[0], nfans[0]]\n",
    "\n",
    "# 4. Depositing the predictions\n",
    "pred = neural_network(input, weights)\n",
    "print(pred)"
   ]
  },
  {
   "cell_type": "markdown",
   "id": "5a111ada",
   "metadata": {},
   "source": [
    "### Multiple inputs: What does this neural network do?\n",
    "It multiplies three inputs by three knob weights and sums them.This is a weighted sum. <br>\n",
    "Now combine multiple inputs at the same time."
   ]
  },
  {
   "cell_type": "markdown",
   "id": "8f872af8",
   "metadata": {},
   "source": [
    "## 3.  Making a prediction with multiple outputs\n",
    "Neural networks can also make multiple predictions using only a single input."
   ]
  },
  {
   "cell_type": "markdown",
   "id": "2dd3b995",
   "metadata": {},
   "source": [
    "## 4. Making a prediction with multiple inputs and outputs\n",
    "Neural networks can predict multiple outputs given multiple inputs."
   ]
  },
  {
   "cell_type": "markdown",
   "id": "94cd15f4",
   "metadata": {},
   "source": [
    "## 5. Predicting on predictions\n",
    "Neural networks can be stacked!"
   ]
  }
 ],
 "metadata": {
  "kernelspec": {
   "display_name": "Python 3 (ipykernel)",
   "language": "python",
   "name": "python3"
  },
  "language_info": {
   "codemirror_mode": {
    "name": "ipython",
    "version": 3
   },
   "file_extension": ".py",
   "mimetype": "text/x-python",
   "name": "python",
   "nbconvert_exporter": "python",
   "pygments_lexer": "ipython3",
   "version": "3.9.7"
  }
 },
 "nbformat": 4,
 "nbformat_minor": 5
}
