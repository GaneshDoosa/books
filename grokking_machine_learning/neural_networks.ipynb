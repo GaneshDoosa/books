{
 "cells": [
  {
   "cell_type": "markdown",
   "id": "408ea836",
   "metadata": {},
   "source": [
    "## Uses Perceptron Algorithm"
   ]
  },
  {
   "cell_type": "markdown",
   "id": "0c201302",
   "metadata": {},
   "source": [
    "## Understand neural networks with an example\n",
    "### Sentiment Analysis\n",
    "The scenario is the following: we find ourselves on a distant planet populated by aliens. They seem to speak a language formed by two words, aack and beep, and we want to build a machine learning model that helps us determine whether an alien is happy or sad based on the words they say. This is called sentiment analysis, because we need to build a model to analyze the sentiment of the aliens. We record some aliens talking and manage to identify by other means whether they are happy or sad, and we come up with the dataset shown in in table <br>\n",
    "**Dataset:**\n",
    "\n",
    "| Sentence | Aack | Beep | Mood \n",
    "| :- | -: | :-: | :-: |\n",
    "| Aack | 1 | 0 | Sad \n",
    "| Aack aack | 2 | 0 | Sad \n",
    "| Beep | 0 | 1 | Sad\n",
    "| Beep beep | 0 | 2 | Sad\n",
    "| Aack beep | 1 | 1 | Happy\n",
    "| Aack aack beep | 2 | 1 | Happy\n",
    "| Beep aack beep | 1 | 2 | Happy\n",
    "| Beep aack beep aack| 2 | 2 | Happy\n",
    "\n",
    "**Plot of dataset:**\n",
    "<img alt=\"cats\" src=\"images/NN1.png\" width=\"450\">\n",
    "\n",
    "It looks like we won't be able to fit a linear classifier to this data (Drawing a line that splits the happy and the sad faces apart would be impossible). <br>\n",
    "\n",
    "$\\color{red}{\\text{What then is better than one line?}}$\n",
    "1. Two lines\n",
    "2. A curve"
   ]
  },
  {
   "cell_type": "markdown",
   "id": "dfea3070",
   "metadata": {},
   "source": [
    "### Solution - Two lines: If one line is not enough, use two lines to classify your dataset\n",
    "<td> \n",
    "  <p align=\"center\" style=\"padding: 10px\">\n",
    "    <img alt=\"cats\" src=\"images/NN2.png\" width=\"450\">\n",
    "    <br>\n",
    "    <em style=\"color: grey\">The happy and the sad points in our dataset cannot be divided by one line. However, drawing two\n",
    "lines separates them well—the points above both lines can be classified as happy, and the remaining points as sad. Combining linear classifiers this way is the basis for neural networks.</em>\n",
    "  </p> \n",
    "</td>\n",
    "\n",
    "A sentence is classified as happy if its corresponding point is above the two lines shown in above figure. If it is below atleast one of the lines, it is classified as sad.\n",
    "\n",
    "How to find these equations?\n",
    "1. Line 1 passes through the points (0,1.5) and (2.5,0). <br>\n",
    "    The slope is $-\\frac{1.5}{2.5} = -\\frac{3}{5}$. <br>\n",
    "    The y intercept is 1.5. <br>\n",
    "    The equation is $x_{b} = \\frac{3}{5} x_{a} + 1.5 =  6x_{a}+10x_{b}-15=0$\n",
    "2. Line 2 passes through the points (0,2.5) and (1.5,0) <br>\n",
    "   The equation is \n",
    "   = $10x_{a}+6x_{b}-15=0$\n",
    "   \n",
    "The sentence is classified as happy if both of the following two inequalities hold:\n",
    "- Inequality1: $6x_{a}+10x_{b}-15=0>=0$\n",
    "- Inequality2: $10x_{a}+6x_{b}-15=0>=0$\n",
    "If atleast one of them fails, then the sentence is classified as sad.\n",
    "\n",
    "Why two lines? Is happiness not linear?\n"
   ]
  },
  {
   "cell_type": "markdown",
   "id": "2108bf61",
   "metadata": {},
   "source": []
  },
  {
   "cell_type": "code",
   "execution_count": null,
   "id": "ab8e436f",
   "metadata": {},
   "outputs": [],
   "source": []
  },
  {
   "cell_type": "code",
   "execution_count": null,
   "id": "1425cfca",
   "metadata": {},
   "outputs": [],
   "source": []
  }
 ],
 "metadata": {
  "kernelspec": {
   "display_name": "Python 3 (ipykernel)",
   "language": "python",
   "name": "python3"
  },
  "language_info": {
   "codemirror_mode": {
    "name": "ipython",
    "version": 3
   },
   "file_extension": ".py",
   "mimetype": "text/x-python",
   "name": "python",
   "nbconvert_exporter": "python",
   "pygments_lexer": "ipython3",
   "version": "3.9.7"
  }
 },
 "nbformat": 4,
 "nbformat_minor": 5
}
