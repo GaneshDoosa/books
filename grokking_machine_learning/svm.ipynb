{
 "cells": [
  {
   "cell_type": "markdown",
   "id": "71d0550d",
   "metadata": {},
   "source": [
    "## Finding boundaries with style"
   ]
  },
  {
   "cell_type": "markdown",
   "id": "883e612a",
   "metadata": {},
   "source": [
    "### Linear separation"
   ]
  },
  {
   "cell_type": "code",
   "execution_count": null,
   "id": "1cc1c6e0",
   "metadata": {},
   "outputs": [],
   "source": []
  },
  {
   "cell_type": "code",
   "execution_count": null,
   "id": "4b79baa5",
   "metadata": {},
   "outputs": [],
   "source": []
  },
  {
   "cell_type": "code",
   "execution_count": null,
   "id": "af84d740",
   "metadata": {},
   "outputs": [],
   "source": []
  },
  {
   "cell_type": "code",
   "execution_count": null,
   "id": "afd31707",
   "metadata": {},
   "outputs": [],
   "source": []
  }
 ],
 "metadata": {
  "kernelspec": {
   "display_name": "Python 3 (ipykernel)",
   "language": "python",
   "name": "python3"
  },
  "language_info": {
   "codemirror_mode": {
    "name": "ipython",
    "version": 3
   },
   "file_extension": ".py",
   "mimetype": "text/x-python",
   "name": "python",
   "nbconvert_exporter": "python",
   "pygments_lexer": "ipython3",
   "version": "3.9.7"
  }
 },
 "nbformat": 4,
 "nbformat_minor": 5
}
