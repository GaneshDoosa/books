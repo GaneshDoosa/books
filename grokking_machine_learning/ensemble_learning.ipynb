{
 "cells": [
  {
   "cell_type": "markdown",
   "id": "99dd1dca",
   "metadata": {},
   "source": [
    "## Ensemble Learning\n",
    "<img alt=\"cat\" src=\"images/EL_1.png\" width=\"400\" align=\"center\"/>"
   ]
  },
  {
   "cell_type": "markdown",
   "id": "3d8b2ad2",
   "metadata": {},
   "source": [
    "There are several ways to build strong model by combining weak models.\n",
    "1. Bagging - Constructing a few models in random way and joining them together\n",
    "2. Boosting - Building these models in smarter way by picking each model strategically to focus on previous models' mistakes.\n",
    "\n",
    "Are these models worked any time in real?\n",
    "Ex: Netflix prize which was awarded to the best model that fits large dataset of Netflix viewership data was won by a group that used an ensemble of different models.\n",
    "\n",
    "Why the ensemble models work better?\n"
   ]
  },
  {
   "cell_type": "markdown",
   "id": "fe6b8cdd",
   "metadata": {},
   "source": [
    "Analogy:\n",
    "\n",
    "Imagine that we have to take an exam that consists of 100 True/False questions on many different topics maths, geography, science, history, and music. Luckily we are allowed to call our friends - Adriana, Bob, Carlos, Dana, and Emily - to help us. There is a small constraint all of them work full time, and they dont have to answer all 100 questions, but they are more happy to answer subset of them. What techniques we can use to get their help?\n",
    "\n",
    "Technique 1: "
   ]
  },
  {
   "cell_type": "markdown",
   "id": "e2ff48de",
   "metadata": {},
   "source": []
  },
  {
   "cell_type": "markdown",
   "id": "1b0e4bd8",
   "metadata": {},
   "source": []
  }
 ],
 "metadata": {
  "kernelspec": {
   "display_name": "Python 3 (ipykernel)",
   "language": "python",
   "name": "python3"
  },
  "language_info": {
   "codemirror_mode": {
    "name": "ipython",
    "version": 3
   },
   "file_extension": ".py",
   "mimetype": "text/x-python",
   "name": "python",
   "nbconvert_exporter": "python",
   "pygments_lexer": "ipython3",
   "version": "3.9.7"
  }
 },
 "nbformat": 4,
 "nbformat_minor": 5
}
